{
 "cells": [
  {
   "cell_type": "code",
   "execution_count": null,
   "metadata": {},
   "outputs": [],
   "source": [
    "#Assessing Data"
   ]
  },
  {
   "cell_type": "code",
   "execution_count": null,
   "metadata": {},
   "outputs": [],
   "source": [
    "import numpy as np\n",
    "import pandas as pd \n",
    "import matplotlib.pyplot as plt\n",
    "import seaborn as sns\n",
    "sns.set_style('darkgrid')\n",
    "%matplotlib inline\n",
    "df = pd.read_csv(open('/home/khrystyne/tmdb-movies.csv'), encoding='utf-8', engine='python')\n",
    "\n",
    "df.head()"
   ]
  },
  {
   "cell_type": "code",
   "execution_count": null,
   "metadata": {},
   "outputs": [],
   "source": [
    "df.shape"
   ]
  },
  {
   "cell_type": "code",
   "execution_count": null,
   "metadata": {},
   "outputs": [],
   "source": [
    "df.info()"
   ]
  },
  {
   "cell_type": "code",
   "execution_count": null,
   "metadata": {},
   "outputs": [],
   "source": [
    "df.isnull().sum().sum()"
   ]
  },
  {
   "cell_type": "code",
   "execution_count": null,
   "metadata": {},
   "outputs": [],
   "source": [
    "df.duplicated().sum()"
   ]
  },
  {
   "cell_type": "code",
   "execution_count": null,
   "metadata": {},
   "outputs": [],
   "source": [
    "df.dtypes"
   ]
  },
  {
   "cell_type": "code",
   "execution_count": null,
   "metadata": {},
   "outputs": [],
   "source": [
    "#Cleaning"
   ]
  },
  {
   "cell_type": "code",
   "execution_count": null,
   "metadata": {},
   "outputs": [],
   "source": [
    "df.drop(df.columns[[0,1, 7, 9, 10, 11, 12, 14, 15]], axis = 1, inplace = True)"
   ]
  },
  {
   "cell_type": "code",
   "execution_count": null,
   "metadata": {},
   "outputs": [],
   "source": [
    "df.drop_duplicates(inplace=True)"
   ]
  },
  {
   "cell_type": "code",
   "execution_count": null,
   "metadata": {},
   "outputs": [],
   "source": [
    "df.fillna(df.mean(), inplace=True)"
   ]
  },
  {
   "cell_type": "code",
   "execution_count": null,
   "metadata": {},
   "outputs": [],
   "source": [
    "df.cast.fillna(' ', inplace=True)\n",
    "df.genres.fillna(' ', inplace=True)\n",
    "df.director.fillna(' ', inplace=True)"
   ]
  },
  {
   "cell_type": "code",
   "execution_count": null,
   "metadata": {},
   "outputs": [],
   "source": [
    "budget_zero = df[df.budget == 0]"
   ]
  },
  {
   "cell_type": "code",
   "execution_count": null,
   "metadata": {},
   "outputs": [],
   "source": [
    "revenue_zero = df[df.revenue == 0]"
   ]
  },
  {
   "cell_type": "code",
   "execution_count": null,
   "metadata": {},
   "outputs": [],
   "source": [
    "df.drop(budget_zero.index, inplace=True)"
   ]
  },
  {
   "cell_type": "code",
   "execution_count": null,
   "metadata": {},
   "outputs": [],
   "source": [
    "df.drop(revenue_zero.index, axis = 0,  inplace=True)"
   ]
  },
  {
   "cell_type": "code",
   "execution_count": null,
   "metadata": {},
   "outputs": [],
   "source": [
    "df['profit'] = df.revenue - df.budget\n",
    "df = df[['profit'] + df.columns[:-1].tolist()]"
   ]
  },
  {
   "cell_type": "code",
   "execution_count": null,
   "metadata": {},
   "outputs": [],
   "source": [
    "#Exploration of data"
   ]
  },
  {
   "cell_type": "code",
   "execution_count": null,
   "metadata": {},
   "outputs": [],
   "source": [
    "#defining a function\n",
    "def data_calc(column):\n",
    "    #highest \n",
    "    high = df[column].idxmax()\n",
    "    high_calc = pd.DataFrame(df.loc[high])\n",
    "    \n",
    "    #lowest\n",
    "    low= df[column].idxmin()\n",
    "    low_calc=pd.DataFrame(df.loc[low])\n",
    "    \n",
    "    #putting the data into a table\n",
    "    table = pd.concat([high_calc, low_calc], axis=1)\n",
    "    \n",
    "    return table\n",
    "\n",
    "#calling the function\n",
    "data_calc('profit')"
   ]
  },
  {
   "cell_type": "code",
   "execution_count": null,
   "metadata": {},
   "outputs": [],
   "source": [
    "data_calc('budget')"
   ]
  },
  {
   "cell_type": "code",
   "execution_count": null,
   "metadata": {},
   "outputs": [],
   "source": [
    "data_calc('revenue')"
   ]
  },
  {
   "cell_type": "code",
   "execution_count": null,
   "metadata": {},
   "outputs": [],
   "source": [
    "#Create a dataframe that contains the movies that made a profit\n",
    "profit_data = df[df['profit'] > 0]\n",
    "profit_data.index = range(len(profit_data))\n",
    "#make sure changes are applied\n",
    "profit_data.head()"
   ]
  },
  {
   "cell_type": "code",
   "execution_count": null,
   "metadata": {},
   "outputs": [],
   "source": [
    "profit_data.groupby('release_year').profit.mean().plot(kind='bar');"
   ]
  },
  {
   "cell_type": "code",
   "execution_count": null,
   "metadata": {},
   "outputs": [],
   "source": [
    "#Create a dataframe that contains the movies that made a loss\n",
    "loss_data = df[df['profit'] <= 0]\n",
    "loss_data.index = range(len(loss_data))\n",
    "#make sure changes are applied\n",
    "loss_data.head()"
   ]
  },
  {
   "cell_type": "code",
   "execution_count": null,
   "metadata": {},
   "outputs": [],
   "source": [
    "loss_data.groupby('release_year').profit.mean().plot(kind='bar');"
   ]
  },
  {
   "cell_type": "code",
   "execution_count": null,
   "metadata": {},
   "outputs": [],
   "source": [
    "p = len(profit_data)\n",
    "p"
   ]
  },
  {
   "cell_type": "code",
   "execution_count": null,
   "metadata": {},
   "outputs": [],
   "source": [
    "loss = len(df) - len(profit_data) \n",
    "loss"
   ]
  },
  {
   "cell_type": "code",
   "execution_count": null,
   "metadata": {},
   "outputs": [],
   "source": [
    "year_prof = df.groupby('release_year')['profit'].sum()\n",
    "\n",
    "#figure size(width, height)\n",
    "plt.figure(figsize=(12,6), dpi = 130)\n",
    "\n",
    "#x-axis\n",
    "plt.xlabel('Release Year', fontsize = 12)\n",
    "#y-axis\n",
    "plt.ylabel('Profits earned by Movies', fontsize = 12)\n",
    "#title\n",
    "plt.title('Movies Profits by Year of their release.')\n",
    "\n",
    "#plotting the graph\n",
    "plt.plot(year_prof, label = 'Profits')\n",
    "#Display legend\n",
    "plt.legend(loc='upper center')\n",
    "#display the line plot\n",
    "plt.show()\n"
   ]
  },
  {
   "cell_type": "code",
   "execution_count": null,
   "metadata": {},
   "outputs": [],
   "source": [
    "plt.hist(df.vote_average, bins=20, color='blue')\n",
    "plt.xlabel(\"Vote Average\")\n",
    "plt.show()"
   ]
  },
  {
   "cell_type": "code",
   "execution_count": null,
   "metadata": {},
   "outputs": [],
   "source": [
    "vote_prof = df.groupby('vote_average')['profit'].mean()\n",
    "\n",
    "#figure size(width, height)\n",
    "plt.figure(figsize=(12,6), dpi = 130)\n",
    "\n",
    "#x-axis\n",
    "plt.xlabel('Vote Average', fontsize = 12)\n",
    "#y-axis\n",
    "plt.ylabel('Profits earned by Movies', fontsize = 12)\n",
    "#title\n",
    "plt.title('Correlation between Profit and Average Vote.')\n",
    "\n",
    "#plotting the graph\n",
    "plt.plot(vote_prof, label = 'Vote Average')\n",
    "plt.legend(loc='upper left')\n",
    "#display the line plot\n",
    "plt.show()"
   ]
  },
  {
   "cell_type": "code",
   "execution_count": null,
   "metadata": {},
   "outputs": [],
   "source": [
    "plt.scatter(df.vote_average, df.profit, lw=0,alpha=0.8)\n",
    "plt.xlabel('Rating')\n",
    "plt.ylabel('profit')\n",
    "plt.show()"
   ]
  },
  {
   "cell_type": "code",
   "execution_count": null,
   "metadata": {},
   "outputs": [],
   "source": [
    "df['vote_average'].corr(df['profit'])"
   ]
  },
  {
   "cell_type": "code",
   "execution_count": null,
   "metadata": {},
   "outputs": [],
   "source": [
    "budget_prof = df.groupby('release_year')['profit', 'budget'].mean()\n",
    "\n",
    "#figure size(width, height)\n",
    "plt.figure(figsize=(12,6), dpi = 130)\n",
    "\n",
    "#x-axis\n",
    "plt.xlabel('Budget, Profit', fontsize = 12)\n",
    "#y-axis\n",
    "plt.ylabel('Budgets and Profits of Movies', fontsize = 12)\n",
    "#title\n",
    "plt.title('Correlation between Profit and Budget.')\n",
    "\n",
    "#plotting the graph\n",
    "plt.plot(budget_prof, label =  'Profit')\n",
    "\n",
    "plt.legend()\n",
    "#display the line plot\n",
    "\n",
    "plt.show()"
   ]
  },
  {
   "cell_type": "code",
   "execution_count": null,
   "metadata": {},
   "outputs": [],
   "source": [
    "prof_high = df['profit'].sort_values(ascending=False)[:20]\n",
    "\n",
    "high_profits=pd.DataFrame()\n",
    "titles = []\n",
    "profits = []\n",
    "for i in prof_high.index:\n",
    "    titles.append(df.loc[i,'original_title'])\n",
    "    profits.append(prof_high.loc[i])\n",
    "high_profits['Titles']=titles\n",
    "high_profits['Profits']=profits\n",
    "high_profits.set_index('Titles',inplace=True)\n",
    "high_profits.plot(kind ='bar',figsize=(8,8))\n",
    "plt.title('Top 20 highest grossing movies (1960 - 2015) ');\n",
    "plt.ylabel('Profits in billions ($)');"
   ]
  },
  {
   "cell_type": "code",
   "execution_count": null,
   "metadata": {},
   "outputs": [],
   "source": [
    "budget_high = df['budget'].sort_values(ascending=False)[:20]\n",
    "\n",
    "high_budget=pd.DataFrame()\n",
    "titles = []\n",
    "budgets = []\n",
    "for i in budget_high.index:\n",
    "    titles.append(df.loc[i,'original_title'])\n",
    "    budgets.append(budget_high.loc[i])\n",
    "high_budget['Titles']=titles\n",
    "high_budget['Budget']=profits\n",
    "high_budget.set_index('Titles',inplace=True)\n",
    "high_budget.plot(kind ='bar',figsize=(8,8))\n",
    "plt.title('Top 20 movies with the highest Budgets (1960 - 2015) ');\n",
    "plt.ylabel('Budget in billions ($)');"
   ]
  },
  {
   "cell_type": "code",
   "execution_count": null,
   "metadata": {},
   "outputs": [],
   "source": [
    "df.plot(x = 'budget', y = 'profit', kind = 'scatter')"
   ]
  },
  {
   "cell_type": "code",
   "execution_count": null,
   "metadata": {},
   "outputs": [],
   "source": [
    "df['budget'].corr(df['profit'])"
   ]
  },
  {
   "cell_type": "code",
   "execution_count": null,
   "metadata": {},
   "outputs": [],
   "source": [
    "plt.scatter(df['release_year'], df['profit'], color='b', label='profit', alpha=0.5)\n",
    "plt.scatter(df['release_year'], df['budget'], color='r', label='budget', alpha=0.5)\n",
    "plt.title('Correlation between Budget and Profit')\n",
    "plt.xlabel(\"Year\")\n",
    "plt.ylabel(\"Dollars\")\n",
    "plt.legend(loc='upper center')  \n",
    "#plt.grid(True)\n",
    "plt.show()"
   ]
  },
  {
   "cell_type": "code",
   "execution_count": null,
   "metadata": {},
   "outputs": [],
   "source": [
    "def data_extract(col_name):\n",
    "    df_data = profit_data[col_name].str.cat(sep = '|')\n",
    "    data = pd.Series(df_data.split('|'))\n",
    "    count = data.value_counts(ascending = False)\n",
    "    return count\n"
   ]
  },
  {
   "cell_type": "code",
   "execution_count": null,
   "metadata": {},
   "outputs": [],
   "source": [
    "genre_count = data_extract('genres')\n",
    "genre_count.head()"
   ]
  },
  {
   "cell_type": "code",
   "execution_count": null,
   "metadata": {},
   "outputs": [],
   "source": [
    "genre_count.sort_values(ascending = True, inplace = True)\n",
    "\n",
    "# plot\n",
    "ax = genre_count.plot.barh(color = '#007482', fontsize = 15)\n",
    "\n",
    "# title\n",
    "ax.set(title = 'The Most filmed genres')\n",
    "\n",
    "#x-label\n",
    "ax.set_xlabel('Number of Movies', color = 'b', fontsize = '18')\n",
    "\n",
    "# figure sizes(width, height)\n",
    "ax.figure.set_size_inches(12, 10)\n",
    "\n",
    "#printing the plot\n",
    "plt.show()\n"
   ]
  },
  {
   "cell_type": "code",
   "execution_count": null,
   "metadata": {},
   "outputs": [],
   "source": [
    "cast_count = data_extract('cast')\n",
    "cast_count.head()"
   ]
  },
  {
   "cell_type": "code",
   "execution_count": null,
   "metadata": {},
   "outputs": [],
   "source": [
    "actor = df['cast'].str.cat(sep='|').split('|')\n",
    "\n",
    "table=pd.Series(actor).value_counts(ascending=True)[-10:]\n",
    "graph = table.plot.barh()\n",
    "graph.set(title = 'List of actors who appeared in the most movies',xlabel = 'Number of time casted.')"
   ]
  },
  {
   "cell_type": "code",
   "execution_count": null,
   "metadata": {},
   "outputs": [],
   "source": [
    "director_count = data_extract('director')\n",
    "director_count.head()"
   ]
  },
  {
   "cell_type": "code",
   "execution_count": null,
   "metadata": {},
   "outputs": [],
   "source": [
    "directors = df['director'].str.cat(sep='|').split('|')\n",
    "\n",
    "table=pd.Series(directors).value_counts(ascending=True)[-10:]\n",
    "graph = table.plot.barh()\n",
    "graph.set(title = 'List of most popular directors',xlabel = 'Number of movies directed.')"
   ]
  },
  {
   "cell_type": "code",
   "execution_count": null,
   "metadata": {},
   "outputs": [],
   "source": []
  },
  {
   "cell_type": "code",
   "execution_count": null,
   "metadata": {},
   "outputs": [],
   "source": []
  },
  {
   "cell_type": "code",
   "execution_count": null,
   "metadata": {},
   "outputs": [],
   "source": []
  },
  {
   "cell_type": "code",
   "execution_count": null,
   "metadata": {},
   "outputs": [],
   "source": []
  },
  {
   "cell_type": "code",
   "execution_count": null,
   "metadata": {},
   "outputs": [],
   "source": []
  },
  {
   "cell_type": "code",
   "execution_count": null,
   "metadata": {},
   "outputs": [],
   "source": []
  },
  {
   "cell_type": "code",
   "execution_count": null,
   "metadata": {},
   "outputs": [],
   "source": []
  },
  {
   "cell_type": "code",
   "execution_count": null,
   "metadata": {},
   "outputs": [],
   "source": []
  },
  {
   "cell_type": "code",
   "execution_count": null,
   "metadata": {},
   "outputs": [],
   "source": []
  },
  {
   "cell_type": "code",
   "execution_count": null,
   "metadata": {},
   "outputs": [],
   "source": []
  },
  {
   "cell_type": "code",
   "execution_count": null,
   "metadata": {},
   "outputs": [],
   "source": []
  }
 ],
 "metadata": {
  "kernelspec": {
   "display_name": "Python 3",
   "language": "python",
   "name": "python3"
  },
  "language_info": {
   "codemirror_mode": {
    "name": "ipython",
    "version": 3
   },
   "file_extension": ".py",
   "mimetype": "text/x-python",
   "name": "python",
   "nbconvert_exporter": "python",
   "pygments_lexer": "ipython3",
   "version": "3.6.4"
  }
 },
 "nbformat": 4,
 "nbformat_minor": 2
}
